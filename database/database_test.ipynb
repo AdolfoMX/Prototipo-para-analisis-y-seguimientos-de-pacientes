{
 "cells": [
  {
   "cell_type": "code",
   "execution_count": 1,
   "metadata": {},
   "outputs": [],
   "source": [
    "import mysql.connector\n",
    "\n",
    "cnx = mysql.connector.connect(\n",
    "    user='root', \n",
    "    password='12345',\n",
    "    host='127.0.0.1',\n",
    "    database='slsm_db'\n",
    ")\n",
    "\n",
    "cursor = cnx.cursor()"
   ]
  },
  {
   "cell_type": "code",
   "execution_count": 35,
   "metadata": {},
   "outputs": [],
   "source": [
    "# Inserción \n",
    "cursor = cnx.cursor()\n",
    "\n",
    "sql = \"INSERT INTO usuarios (nombre, apellidos, correo, rol, contrasena) VALUES (%s, %s, %s,%s, %s)\"\n",
    "val = (\"ADOLFO\", \"TUN DZUL\", \"170300124@ucaribe.edu.mx\", \"Paciente\", \"12345\")\n",
    "\n",
    "cursor.execute(sql, val)\n",
    "cnx.commit()"
   ]
  },
  {
   "cell_type": "code",
   "execution_count": 2,
   "metadata": {},
   "outputs": [
    {
     "name": "stdout",
     "output_type": "stream",
     "text": [
      "[(1, 'GUADALUPE', 'GUINTO', 'guadalupe.guinto@gmail.com', 2, '12345', '$2b$12$NffuYu0ZnORLiM/PObslrugmyRsFz0V8sPArMW2HK7Lu3VYawhb7.'), (2, 'AMAYRANI', 'GOMEZ', '170300079@ucaribe.edu.mx', 1, '12345', '$2b$12$q1ROBA.geON5Ll9PvyD.ROHVtBTqyKXwEfSPzeIFZb.vz2PiKUAEm'), (3, 'ADOLFO', 'TUN DZUL', '170300124@ucaribe.edu.mx', 2, '12345', '$2b$12$7dYcrIuYsYl8Rg769cLTzeL0WHxbsq5RBuWsq1JuLqd8UmozirYD2'), (4, 'KARLA', 'GUINTO', 'karla.guinto@gmail.com', 2, '12345', '$2b$12$M9BpQ4wQCB6pbiLrodDkjuvkCejCoH..F1AN8ZD6aoblpNHxbikqO'), (5, 'GUADALUPE', 'SALINAS', 'guadalupe.salinas@gmail.com', 1, '12345', '$2b$12$6QnmWuNG1RQoHh6rwcch5.eCZTvKiHKgJx3WkCR9FZNwEUl7giADy'), (6, 'AMAYRANI', 'GOMEZ', 'amayraniigomez@gmail.com', 2, '12345', '$2b$12$o8uAScdMsXi8ZXT8R9ZmyOXzcaVYN5X31MTQts2ktwNVgeiJ0NEfO'), (8, 'ASHWIN', 'CARDENAS BOBADILLA', '170300113@ucqribe.edu.mx', 2, 'adolfoestahermoso', '$2b$12$kAIM7Q.WT63FbO7tVUV9ceTRejMI4N1NkTrHWKkMY6cUu99JG5fJC'), (9, 'KARLA', 'GUINTO', '180300325@ucaribe.edu.mx', 1, '12345', '$2b$12$reF50MVExOP9n7f2PmtUeuEQSP3381EN1vW8KUcrAdzegS9nXU/Om'), (10, 'AMAYRANI', 'GOMEZ', 'herg08@hotmail.com', 2, '12345', '$2b$12$PS1TC7UO8EVD92ieJ0xZO.TlyK5BhF1r4eEiNQrnDD2Me3.siz3ie')]\n"
     ]
    }
   ],
   "source": [
    "# Consulta\n",
    "cursor = cnx.cursor()\n",
    "\n",
    "cursor.execute(\"SELECT * FROM usuarios\")\n",
    "\n",
    "result = cursor.fetchall()\n",
    "\n",
    "print(result)"
   ]
  },
  {
   "cell_type": "code",
   "execution_count": 4,
   "metadata": {},
   "outputs": [
    {
     "data": {
      "text/plain": [
       "{'id_usuario': 1,\n",
       " 'nombre': 'GUADALUPE',\n",
       " 'apellidos': 'GUINTO',\n",
       " 'correo': 'guadalupe.guinto@gmail.com',\n",
       " 'id_rol': 2,\n",
       " 'contaseña': '12345',\n",
       " 'contrasena_hash': '$2b$12$NffuYu0ZnORLiM/PObslrugmyRsFz0V8sPArMW2HK7Lu3VYawhb7.'}"
      ]
     },
     "execution_count": 4,
     "metadata": {},
     "output_type": "execute_result"
    }
   ],
   "source": [
    "user_data = {\n",
    "    \"id_usuario\": result[0][0],\n",
    "    \"nombre\": result[0][1],\n",
    "    \"apellidos\": result[0][2],\n",
    "    \"correo\": result[0][3],\n",
    "    \"id_rol\": result[0][4],\n",
    "    \"contaseña\": result[0][5],\n",
    "    \"contrasena_hash\": result[0][6]\n",
    "}\n",
    "\n",
    "user_data"
   ]
  },
  {
   "cell_type": "code",
   "execution_count": 5,
   "metadata": {},
   "outputs": [
    {
     "name": "stdout",
     "output_type": "stream",
     "text": [
      "[]\n"
     ]
    }
   ],
   "source": [
    "# Búsqueda\n",
    "cursor = cnx.cursor()\n",
    "\n",
    "sql = f\"SELECT * FROM usuarios WHERE correo LIKE '{user_data['correo']}%'\"\n",
    "sql = f\"SELECT * FROM usuarios WHERE correo LIKE '170300125@ucaribe.edu.mx'\"\n",
    "\n",
    "cursor.execute(sql)\n",
    "\n",
    "result = cursor.fetchall()\n",
    "\n",
    "print(result)"
   ]
  },
  {
   "cell_type": "code",
   "execution_count": 6,
   "metadata": {},
   "outputs": [
    {
     "name": "stdout",
     "output_type": "stream",
     "text": [
      "lista vacia\n"
     ]
    }
   ],
   "source": [
    "if result: \n",
    "    print(\"lista no vacia\")\n",
    "else:\n",
    "    print(\"lista vacia\")"
   ]
  },
  {
   "cell_type": "code",
   "execution_count": 25,
   "metadata": {},
   "outputs": [
    {
     "name": "stdout",
     "output_type": "stream",
     "text": [
      "[(1, 2, 'GUADALUPE GUINTO'), (3, 2, 'ADOLFO TUN DZUL'), (4, 2, 'KARLA GUINTO'), (6, 2, 'AMAYRANI GOMEZ'), (8, 2, 'ASHWIN CARDENAS BOBADILLA ')]\n"
     ]
    }
   ],
   "source": [
    "sql = \"\"\"\n",
    "SELECT \n",
    "\tid_usuario,\n",
    "    id_rol,\n",
    "    CONCAT(nombre, \" \", apellidos) AS nombre_completo\n",
    "FROM \n",
    "\tusuarios\n",
    "WHERE \n",
    "    id_rol = 2 AND CONCAT(nombre, \" \", apellidos) LIKE '%%';\n",
    "\"\"\"\n",
    "cursor.execute(sql)\n",
    "\n",
    "result = cursor.fetchall()\n",
    "print(result)"
   ]
  },
  {
   "cell_type": "code",
   "execution_count": 26,
   "metadata": {},
   "outputs": [
    {
     "name": "stdout",
     "output_type": "stream",
     "text": [
      "['GUADALUPE GUINTO', 'ADOLFO TUN DZUL', 'KARLA GUINTO', 'AMAYRANI GOMEZ', 'ASHWIN CARDENAS BOBADILLA ']\n"
     ]
    }
   ],
   "source": [
    "print([data[2] for data in result])"
   ]
  },
  {
   "cell_type": "code",
   "execution_count": 21,
   "metadata": {},
   "outputs": [],
   "source": [
    "# Cerrar conexión\n",
    "cursor.close()\n",
    "cnx.close()"
   ]
  }
 ],
 "metadata": {
  "kernelspec": {
   "display_name": "proyecto-env",
   "language": "python",
   "name": "python3"
  },
  "language_info": {
   "codemirror_mode": {
    "name": "ipython",
    "version": 3
   },
   "file_extension": ".py",
   "mimetype": "text/x-python",
   "name": "python",
   "nbconvert_exporter": "python",
   "pygments_lexer": "ipython3",
   "version": "3.11.2"
  },
  "orig_nbformat": 4
 },
 "nbformat": 4,
 "nbformat_minor": 2
}
