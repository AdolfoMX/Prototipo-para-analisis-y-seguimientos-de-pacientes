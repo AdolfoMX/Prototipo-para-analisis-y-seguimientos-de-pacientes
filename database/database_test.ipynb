{
 "cells": [
  {
   "cell_type": "code",
   "execution_count": 21,
   "metadata": {},
   "outputs": [
    {
     "name": "stdout",
     "output_type": "stream",
     "text": [
      "[(1, 'GUADALUPE', 'GUINTO', 'guadalupe.guinto@gmail.com', 2, '12345', '$2b$12$NffuYu0ZnORLiM/PObslrugmyRsFz0V8sPArMW2HK7Lu3VYawhb7.'), (2, 'AMAYRANI', 'GOMEZ', '170300079@ucaribe.edu.mx', 1, '12345', '$2b$12$q1ROBA.geON5Ll9PvyD.ROHVtBTqyKXwEfSPzeIFZb.vz2PiKUAEm'), (3, 'ADOLFO', 'TUN DZUL', '170300124@ucaribe.edu.mx', 2, '12345', '$2b$12$7dYcrIuYsYl8Rg769cLTzeL0WHxbsq5RBuWsq1JuLqd8UmozirYD2'), (4, 'KARLA', 'GUINTO', 'karla.guinto@gmail.com', 2, '12345', '$2b$12$M9BpQ4wQCB6pbiLrodDkjuvkCejCoH..F1AN8ZD6aoblpNHxbikqO'), (5, 'GUADALUPE', 'SALINAS', 'guadalupe.salinas@gmail.com', 1, '12345', '$2b$12$6QnmWuNG1RQoHh6rwcch5.eCZTvKiHKgJx3WkCR9FZNwEUl7giADy'), (6, 'AMAYRANI', 'GOMEZ', 'amayraniigomez@gmail.com', 2, '12345', '$2b$12$o8uAScdMsXi8ZXT8R9ZmyOXzcaVYN5X31MTQts2ktwNVgeiJ0NEfO'), (8, 'ASHWIN', 'CARDENAS BOBADILLA', '170300113@ucqribe.edu.mx', 2, 'adolfoestahermoso', '$2b$12$kAIM7Q.WT63FbO7tVUV9ceTRejMI4N1NkTrHWKkMY6cUu99JG5fJC'), (9, 'KARLA', 'GUINTO', '180300325@ucaribe.edu.mx', 1, '12345', '$2b$12$reF50MVExOP9n7f2PmtUeuEQSP3381EN1vW8KUcrAdzegS9nXU/Om'), (10, 'AMAYRANI', 'GOMEZ', 'herg08@hotmail.com', 2, '12345', '$2b$12$PS1TC7UO8EVD92ieJ0xZO.TlyK5BhF1r4eEiNQrnDD2Me3.siz3ie'), (11, 'ADOLFO', 'TUN DZUL', '170300124@ucaribe.edu.mx', None, None, None), (12, 'ADOLFO', 'TUN DZUL', '170300124@ucaribe.edu.mx', None, None, None)]\n"
     ]
    }
   ],
   "source": [
    "import mysql.connector\n",
    "import datetime as dt\n",
    "\n",
    "cnx = mysql.connector.connect(\n",
    "    user='root', \n",
    "    password='root',\n",
    "    host='127.0.0.1',\n",
    "    database='slsm_db'\n",
    ")\n",
    "\n",
    "cursor = cnx.cursor()\n"
   ]
  },
  {
   "cell_type": "code",
   "execution_count": 10,
   "metadata": {},
   "outputs": [
    {
     "ename": "ProgrammingError",
     "evalue": "1054 (42S22): Unknown column 'rol' in 'field list'",
     "output_type": "error",
     "traceback": [
      "\u001b[1;31m---------------------------------------------------------------------------\u001b[0m",
      "\u001b[1;31mMySQLInterfaceError\u001b[0m                       Traceback (most recent call last)",
      "File \u001b[1;32mc:\\Users\\karla.salinas\\OneDrive - TUI\\Documents\\Proyecto Karla\\env-proyecto\\Lib\\site-packages\\mysql\\connector\\connection_cext.py:633\u001b[0m, in \u001b[0;36mCMySQLConnection.cmd_query\u001b[1;34m(self, query, raw, buffered, raw_as_string)\u001b[0m\n\u001b[0;32m    632\u001b[0m         query \u001b[39m=\u001b[39m query\u001b[39m.\u001b[39mencode(\u001b[39m\"\u001b[39m\u001b[39mutf-8\u001b[39m\u001b[39m\"\u001b[39m)\n\u001b[1;32m--> 633\u001b[0m     \u001b[39mself\u001b[39;49m\u001b[39m.\u001b[39;49m_cmysql\u001b[39m.\u001b[39;49mquery(\n\u001b[0;32m    634\u001b[0m         query,\n\u001b[0;32m    635\u001b[0m         raw\u001b[39m=\u001b[39;49mraw,\n\u001b[0;32m    636\u001b[0m         buffered\u001b[39m=\u001b[39;49mbuffered,\n\u001b[0;32m    637\u001b[0m         raw_as_string\u001b[39m=\u001b[39;49mraw_as_string,\n\u001b[0;32m    638\u001b[0m         query_attrs\u001b[39m=\u001b[39;49m\u001b[39mself\u001b[39;49m\u001b[39m.\u001b[39;49mquery_attrs,\n\u001b[0;32m    639\u001b[0m     )\n\u001b[0;32m    640\u001b[0m \u001b[39mexcept\u001b[39;00m MySQLInterfaceError \u001b[39mas\u001b[39;00m err:\n",
      "\u001b[1;31mMySQLInterfaceError\u001b[0m: Unknown column 'rol' in 'field list'",
      "\nThe above exception was the direct cause of the following exception:\n",
      "\u001b[1;31mProgrammingError\u001b[0m                          Traceback (most recent call last)",
      "\u001b[1;32mc:\\Users\\karla.salinas\\OneDrive - TUI\\Documents\\Proyecto Karla\\env-proyecto\\Prototipo-para-analisis-y-seguimientos-de-pacientes-form-SLSM\\database\\database_test.ipynb Celda 2\u001b[0m line \u001b[0;36m7\n\u001b[0;32m      <a href='vscode-notebook-cell:/c%3A/Users/karla.salinas/OneDrive%20-%20TUI/Documents/Proyecto%20Karla/env-proyecto/Prototipo-para-analisis-y-seguimientos-de-pacientes-form-SLSM/database/database_test.ipynb#W1sZmlsZQ%3D%3D?line=3'>4</a>\u001b[0m sql \u001b[39m=\u001b[39m \u001b[39m\"\u001b[39m\u001b[39mINSERT INTO usuarios (nombre, apellidos, correo, rol, contrasena) VALUES (\u001b[39m\u001b[39m%s\u001b[39;00m\u001b[39m, \u001b[39m\u001b[39m%s\u001b[39;00m\u001b[39m, \u001b[39m\u001b[39m%s\u001b[39;00m\u001b[39m, \u001b[39m\u001b[39m%s\u001b[39;00m\u001b[39m, \u001b[39m\u001b[39m%s\u001b[39;00m\u001b[39m)\u001b[39m\u001b[39m\"\u001b[39m\n\u001b[0;32m      <a href='vscode-notebook-cell:/c%3A/Users/karla.salinas/OneDrive%20-%20TUI/Documents/Proyecto%20Karla/env-proyecto/Prototipo-para-analisis-y-seguimientos-de-pacientes-form-SLSM/database/database_test.ipynb#W1sZmlsZQ%3D%3D?line=4'>5</a>\u001b[0m val \u001b[39m=\u001b[39m (\u001b[39m\"\u001b[39m\u001b[39mADOLFO\u001b[39m\u001b[39m\"\u001b[39m, \u001b[39m\"\u001b[39m\u001b[39mTUN DZUL\u001b[39m\u001b[39m\"\u001b[39m, \u001b[39m\"\u001b[39m\u001b[39m170300124@ucaribe.edu.mx\u001b[39m\u001b[39m\"\u001b[39m, \u001b[39m\"\u001b[39m\u001b[39mPaciente\u001b[39m\u001b[39m\"\u001b[39m, \u001b[39m\"\u001b[39m\u001b[39m12345\u001b[39m\u001b[39m\"\u001b[39m)\n\u001b[1;32m----> <a href='vscode-notebook-cell:/c%3A/Users/karla.salinas/OneDrive%20-%20TUI/Documents/Proyecto%20Karla/env-proyecto/Prototipo-para-analisis-y-seguimientos-de-pacientes-form-SLSM/database/database_test.ipynb#W1sZmlsZQ%3D%3D?line=6'>7</a>\u001b[0m cursor\u001b[39m.\u001b[39;49mexecute(sql, val)\n\u001b[0;32m      <a href='vscode-notebook-cell:/c%3A/Users/karla.salinas/OneDrive%20-%20TUI/Documents/Proyecto%20Karla/env-proyecto/Prototipo-para-analisis-y-seguimientos-de-pacientes-form-SLSM/database/database_test.ipynb#W1sZmlsZQ%3D%3D?line=7'>8</a>\u001b[0m cnx\u001b[39m.\u001b[39mcommit()\n",
      "File \u001b[1;32mc:\\Users\\karla.salinas\\OneDrive - TUI\\Documents\\Proyecto Karla\\env-proyecto\\Lib\\site-packages\\mysql\\connector\\cursor_cext.py:330\u001b[0m, in \u001b[0;36mCMySQLCursor.execute\u001b[1;34m(self, operation, params, multi)\u001b[0m\n\u001b[0;32m    325\u001b[0m             \u001b[39mraise\u001b[39;00m ProgrammingError(\n\u001b[0;32m    326\u001b[0m                 \u001b[39m\"\u001b[39m\u001b[39mNot all parameters were used in the SQL statement\u001b[39m\u001b[39m\"\u001b[39m\n\u001b[0;32m    327\u001b[0m             )\n\u001b[0;32m    329\u001b[0m \u001b[39mtry\u001b[39;00m:\n\u001b[1;32m--> 330\u001b[0m     result \u001b[39m=\u001b[39m \u001b[39mself\u001b[39;49m\u001b[39m.\u001b[39;49m_cnx\u001b[39m.\u001b[39;49mcmd_query(\n\u001b[0;32m    331\u001b[0m         stmt,\n\u001b[0;32m    332\u001b[0m         raw\u001b[39m=\u001b[39;49m\u001b[39mself\u001b[39;49m\u001b[39m.\u001b[39;49m_raw,\n\u001b[0;32m    333\u001b[0m         buffered\u001b[39m=\u001b[39;49m\u001b[39mself\u001b[39;49m\u001b[39m.\u001b[39;49m_buffered,\n\u001b[0;32m    334\u001b[0m         raw_as_string\u001b[39m=\u001b[39;49m\u001b[39mself\u001b[39;49m\u001b[39m.\u001b[39;49m_raw_as_string,\n\u001b[0;32m    335\u001b[0m     )\n\u001b[0;32m    336\u001b[0m \u001b[39mexcept\u001b[39;00m MySQLInterfaceError \u001b[39mas\u001b[39;00m err:\n\u001b[0;32m    337\u001b[0m     \u001b[39mraise\u001b[39;00m get_mysql_exception(\n\u001b[0;32m    338\u001b[0m         msg\u001b[39m=\u001b[39merr\u001b[39m.\u001b[39mmsg, errno\u001b[39m=\u001b[39merr\u001b[39m.\u001b[39merrno, sqlstate\u001b[39m=\u001b[39merr\u001b[39m.\u001b[39msqlstate\n\u001b[0;32m    339\u001b[0m     ) \u001b[39mfrom\u001b[39;00m \u001b[39merr\u001b[39;00m\n",
      "File \u001b[1;32mc:\\Users\\karla.salinas\\OneDrive - TUI\\Documents\\Proyecto Karla\\env-proyecto\\Lib\\site-packages\\mysql\\connector\\opentelemetry\\context_propagation.py:77\u001b[0m, in \u001b[0;36mwith_context_propagation.<locals>.wrapper\u001b[1;34m(cnx, *args, **kwargs)\u001b[0m\n\u001b[0;32m     75\u001b[0m \u001b[39m\u001b[39m\u001b[39m\"\"\"Context propagation decorator.\"\"\"\u001b[39;00m\n\u001b[0;32m     76\u001b[0m \u001b[39mif\u001b[39;00m \u001b[39mnot\u001b[39;00m OTEL_ENABLED \u001b[39mor\u001b[39;00m \u001b[39mnot\u001b[39;00m cnx\u001b[39m.\u001b[39motel_context_propagation:\n\u001b[1;32m---> 77\u001b[0m     \u001b[39mreturn\u001b[39;00m method(cnx, \u001b[39m*\u001b[39;49margs, \u001b[39m*\u001b[39;49m\u001b[39m*\u001b[39;49mkwargs)\n\u001b[0;32m     79\u001b[0m current_span \u001b[39m=\u001b[39m trace\u001b[39m.\u001b[39mget_current_span()\n\u001b[0;32m     80\u001b[0m tp_header \u001b[39m=\u001b[39m \u001b[39mNone\u001b[39;00m\n",
      "File \u001b[1;32mc:\\Users\\karla.salinas\\OneDrive - TUI\\Documents\\Proyecto Karla\\env-proyecto\\Lib\\site-packages\\mysql\\connector\\connection_cext.py:641\u001b[0m, in \u001b[0;36mCMySQLConnection.cmd_query\u001b[1;34m(self, query, raw, buffered, raw_as_string)\u001b[0m\n\u001b[0;32m    633\u001b[0m     \u001b[39mself\u001b[39m\u001b[39m.\u001b[39m_cmysql\u001b[39m.\u001b[39mquery(\n\u001b[0;32m    634\u001b[0m         query,\n\u001b[0;32m    635\u001b[0m         raw\u001b[39m=\u001b[39mraw,\n\u001b[1;32m   (...)\u001b[0m\n\u001b[0;32m    638\u001b[0m         query_attrs\u001b[39m=\u001b[39m\u001b[39mself\u001b[39m\u001b[39m.\u001b[39mquery_attrs,\n\u001b[0;32m    639\u001b[0m     )\n\u001b[0;32m    640\u001b[0m \u001b[39mexcept\u001b[39;00m MySQLInterfaceError \u001b[39mas\u001b[39;00m err:\n\u001b[1;32m--> 641\u001b[0m     \u001b[39mraise\u001b[39;00m get_mysql_exception(\n\u001b[0;32m    642\u001b[0m         err\u001b[39m.\u001b[39merrno, msg\u001b[39m=\u001b[39merr\u001b[39m.\u001b[39mmsg, sqlstate\u001b[39m=\u001b[39merr\u001b[39m.\u001b[39msqlstate\n\u001b[0;32m    643\u001b[0m     ) \u001b[39mfrom\u001b[39;00m \u001b[39merr\u001b[39;00m\n\u001b[0;32m    644\u001b[0m \u001b[39mexcept\u001b[39;00m \u001b[39mAttributeError\u001b[39;00m \u001b[39mas\u001b[39;00m err:\n\u001b[0;32m    645\u001b[0m     addr \u001b[39m=\u001b[39m (\n\u001b[0;32m    646\u001b[0m         \u001b[39mself\u001b[39m\u001b[39m.\u001b[39m_unix_socket \u001b[39mif\u001b[39;00m \u001b[39mself\u001b[39m\u001b[39m.\u001b[39m_unix_socket \u001b[39melse\u001b[39;00m \u001b[39mf\u001b[39m\u001b[39m\"\u001b[39m\u001b[39m{\u001b[39;00m\u001b[39mself\u001b[39m\u001b[39m.\u001b[39m_host\u001b[39m}\u001b[39;00m\u001b[39m:\u001b[39m\u001b[39m{\u001b[39;00m\u001b[39mself\u001b[39m\u001b[39m.\u001b[39m_port\u001b[39m}\u001b[39;00m\u001b[39m\"\u001b[39m\n\u001b[0;32m    647\u001b[0m     )\n",
      "\u001b[1;31mProgrammingError\u001b[0m: 1054 (42S22): Unknown column 'rol' in 'field list'"
     ]
    }
   ],
   "source": [
    "# Inserción \n",
    "cursor = cnx.cursor()\n",
    "\n",
    "sql = \"INSERT INTO usuarios (nombre, apellidos, correo, rol, contrasena) VALUES (%s, %s, %s, %s, %s)\"\n",
    "val = (\"ADOLFO\", \"TUN DZUL\", \"170300124@ucaribe.edu.mx\", \"Paciente\", \"12345\")\n",
    "\n",
    "cursor.execute(sql, val)\n",
    "cnx.commit()"
   ]
  },
  {
   "cell_type": "code",
   "execution_count": 2,
   "metadata": {},
   "outputs": [
    {
     "ename": "NameError",
     "evalue": "name 'cnx' is not defined",
     "output_type": "error",
     "traceback": [
      "\u001b[1;31m---------------------------------------------------------------------------\u001b[0m",
      "\u001b[1;31mNameError\u001b[0m                                 Traceback (most recent call last)",
      "\u001b[1;32mc:\\Users\\karla.salinas\\OneDrive - TUI\\Documents\\Proyecto Karla\\env-proyecto\\Prototipo-para-analisis-y-seguimientos-de-pacientes-form-SLSM\\database\\database_test.ipynb Celda 3\u001b[0m line \u001b[0;36m2\n\u001b[0;32m      <a href='vscode-notebook-cell:/c%3A/Users/karla.salinas/OneDrive%20-%20TUI/Documents/Proyecto%20Karla/env-proyecto/Prototipo-para-analisis-y-seguimientos-de-pacientes-form-SLSM/database/database_test.ipynb#W2sZmlsZQ%3D%3D?line=0'>1</a>\u001b[0m \u001b[39m# Consulta\u001b[39;00m\n\u001b[1;32m----> <a href='vscode-notebook-cell:/c%3A/Users/karla.salinas/OneDrive%20-%20TUI/Documents/Proyecto%20Karla/env-proyecto/Prototipo-para-analisis-y-seguimientos-de-pacientes-form-SLSM/database/database_test.ipynb#W2sZmlsZQ%3D%3D?line=1'>2</a>\u001b[0m cursor \u001b[39m=\u001b[39m cnx\u001b[39m.\u001b[39mcursor()\n\u001b[0;32m      <a href='vscode-notebook-cell:/c%3A/Users/karla.salinas/OneDrive%20-%20TUI/Documents/Proyecto%20Karla/env-proyecto/Prototipo-para-analisis-y-seguimientos-de-pacientes-form-SLSM/database/database_test.ipynb#W2sZmlsZQ%3D%3D?line=3'>4</a>\u001b[0m cursor\u001b[39m.\u001b[39mexecute(\u001b[39m\"\u001b[39m\u001b[39mSELECT * FROM usuarios\u001b[39m\u001b[39m\"\u001b[39m)\n\u001b[0;32m      <a href='vscode-notebook-cell:/c%3A/Users/karla.salinas/OneDrive%20-%20TUI/Documents/Proyecto%20Karla/env-proyecto/Prototipo-para-analisis-y-seguimientos-de-pacientes-form-SLSM/database/database_test.ipynb#W2sZmlsZQ%3D%3D?line=5'>6</a>\u001b[0m result \u001b[39m=\u001b[39m cursor\u001b[39m.\u001b[39mfetchall()\n",
      "\u001b[1;31mNameError\u001b[0m: name 'cnx' is not defined"
     ]
    }
   ],
   "source": [
    "# Consulta\n",
    "cursor = cnx.cursor()\n",
    "\n",
    "cursor.execute(\"SELECT * FROM usuarios\")\n",
    "\n",
    "result = cursor.fetchall()\n",
    "\n",
    "print(result)"
   ]
  },
  {
   "cell_type": "code",
   "execution_count": null,
   "metadata": {},
   "outputs": [],
   "source": [
    "#Consulta de pacientes\n",
    "\n",
    "cursor = cnx.cursor()\n",
    "cursor.execute(\"SELECT * FROM usuarios WHERE id_usuario = {id_user}\")"
   ]
  },
  {
   "cell_type": "code",
   "execution_count": null,
   "metadata": {},
   "outputs": [],
   "source": [
    "# Consulta de usuarios y ultima fecha\n",
    "\n",
    "cursor = cnx.cursor()\n",
    "\n",
    "cursor.execute(\"SELECT * FROM hojas_evolucion_medico WHERE id_usuario = {id_user} AND fecha_registro = (SELECT MAX(fecha_registro) FROM hojas_evolucion_medico)\")\n",
    "\n",
    "result3 = cursor.fetchall()\n",
    "\n",
    "print(result)"
   ]
  },
  {
   "cell_type": "code",
   "execution_count": 4,
   "metadata": {},
   "outputs": [
    {
     "data": {
      "text/plain": [
       "{'id_usuario': 1,\n",
       " 'nombre': 'GUADALUPE',\n",
       " 'apellidos': 'GUINTO',\n",
       " 'correo': 'guadalupe.guinto@gmail.com',\n",
       " 'id_rol': 2,\n",
       " 'contaseña': '12345',\n",
       " 'contrasena_hash': '$2b$12$NffuYu0ZnORLiM/PObslrugmyRsFz0V8sPArMW2HK7Lu3VYawhb7.'}"
      ]
     },
     "execution_count": 4,
     "metadata": {},
     "output_type": "execute_result"
    }
   ],
   "source": [
    "user_data = {\n",
    "    \"id_usuario\": result[0][0],\n",
    "    \"nombre\": result[0][1],\n",
    "    \"apellidos\": result[0][2],\n",
    "    \"correo\": result[0][3],\n",
    "    \"id_rol\": result[0][4],\n",
    "    \"contaseña\": result[0][5],\n",
    "    \"contrasena_hash\": result[0][6]\n",
    "}\n",
    "\n",
    "user_data"
   ]
  },
  {
   "cell_type": "code",
   "execution_count": 5,
   "metadata": {},
   "outputs": [
    {
     "name": "stdout",
     "output_type": "stream",
     "text": [
      "[]\n"
     ]
    }
   ],
   "source": [
    "# Búsqueda\n",
    "cursor = cnx.cursor()\n",
    "\n",
    "sql = f\"SELECT * FROM usuarios WHERE correo LIKE '{user_data['correo']}%'\"\n",
    "sql = f\"SELECT * FROM usuarios WHERE correo LIKE '170300125@ucaribe.edu.mx'\"\n",
    "\n",
    "cursor.execute(sql)\n",
    "\n",
    "result = cursor.fetchall()\n",
    "\n",
    "print(result)"
   ]
  },
  {
   "cell_type": "code",
   "execution_count": 6,
   "metadata": {},
   "outputs": [
    {
     "name": "stdout",
     "output_type": "stream",
     "text": [
      "lista vacia\n"
     ]
    }
   ],
   "source": [
    "if result: \n",
    "    print(\"lista no vacia\")\n",
    "else:\n",
    "    print(\"lista vacia\")"
   ]
  },
  {
   "cell_type": "code",
   "execution_count": 25,
   "metadata": {},
   "outputs": [
    {
     "name": "stdout",
     "output_type": "stream",
     "text": [
      "[(1, 2, 'GUADALUPE GUINTO'), (3, 2, 'ADOLFO TUN DZUL'), (4, 2, 'KARLA GUINTO'), (6, 2, 'AMAYRANI GOMEZ'), (8, 2, 'ASHWIN CARDENAS BOBADILLA ')]\n"
     ]
    }
   ],
   "source": [
    "sql = \"\"\"\n",
    "SELECT \n",
    "\tid_usuario,\n",
    "    id_rol,\n",
    "    CONCAT(nombre, \" \", apellidos) AS nombre_completo\n",
    "FROM \n",
    "\tusuarios\n",
    "WHERE \n",
    "    id_rol = 2 AND CONCAT(nombre, \" \", apellidos) LIKE '%%';\n",
    "\"\"\"\n",
    "cursor.execute(sql)\n",
    "\n",
    "result = cursor.fetchall()\n",
    "print(result)"
   ]
  },
  {
   "cell_type": "code",
   "execution_count": 26,
   "metadata": {},
   "outputs": [
    {
     "name": "stdout",
     "output_type": "stream",
     "text": [
      "['GUADALUPE GUINTO', 'ADOLFO TUN DZUL', 'KARLA GUINTO', 'AMAYRANI GOMEZ', 'ASHWIN CARDENAS BOBADILLA ']\n"
     ]
    }
   ],
   "source": [
    "print([data[2] for data in result])"
   ]
  },
  {
   "cell_type": "code",
   "execution_count": 21,
   "metadata": {},
   "outputs": [],
   "source": [
    "# Cerrar conexión\n",
    "cursor.close()\n",
    "cnx.close()"
   ]
  }
 ],
 "metadata": {
  "kernelspec": {
   "display_name": "proyecto-env",
   "language": "python",
   "name": "python3"
  },
  "language_info": {
   "codemirror_mode": {
    "name": "ipython",
    "version": 3
   },
   "file_extension": ".py",
   "mimetype": "text/x-python",
   "name": "python",
   "nbconvert_exporter": "python",
   "pygments_lexer": "ipython3",
   "version": "3.11.5"
  },
  "orig_nbformat": 4
 },
 "nbformat": 4,
 "nbformat_minor": 2
}
