{
 "cells": [
  {
   "cell_type": "code",
   "execution_count": 56,
   "metadata": {},
   "outputs": [],
   "source": [
    "import mysql.connector\n",
    "\n",
    "cnx = mysql.connector.connect(\n",
    "    user='root', \n",
    "    password='12345',\n",
    "    host='127.0.0.1',\n",
    "    database='slsm_db'\n",
    ")\n",
    "\n",
    "cursor = cnx.cursor()"
   ]
  },
  {
   "cell_type": "code",
   "execution_count": 35,
   "metadata": {},
   "outputs": [],
   "source": [
    "# Inserción \n",
    "cursor = cnx.cursor()\n",
    "\n",
    "sql = \"INSERT INTO usuarios (nombre, apellidos, correo, rol, contrasena) VALUES (%s, %s, %s,%s, %s)\"\n",
    "val = (\"ADOLFO\", \"TUN DZUL\", \"170300124@ucaribe.edu.mx\", \"Paciente\", \"12345\")\n",
    "\n",
    "cursor.execute(sql, val)\n",
    "cnx.commit()"
   ]
  },
  {
   "cell_type": "code",
   "execution_count": 57,
   "metadata": {},
   "outputs": [
    {
     "name": "stdout",
     "output_type": "stream",
     "text": [
      "[(1, 'ADOLFO', 'TUN DZUL', '170300124@ucaribe.edu.mx', None, 'Paciente', '12345'), (2, 'ADOLFO', 'TUN DZUL', '170300124@ucaribe.edu.mx', None, 'Paciente', '12345'), (3, 'LUIS MANUEL', 'PEREZ', '170300125@ucaribe.edu.mx', None, 'Especialista', '12345')]\n"
     ]
    }
   ],
   "source": [
    "# Consulta\n",
    "cursor = cnx.cursor()\n",
    "\n",
    "cursor.execute(\"SELECT * FROM usuarios\")\n",
    "\n",
    "result = cursor.fetchall()\n",
    "\n",
    "print(result)"
   ]
  },
  {
   "cell_type": "code",
   "execution_count": 37,
   "metadata": {},
   "outputs": [
    {
     "data": {
      "text/plain": [
       "{'id': 1,\n",
       " 'nombre': 'ADOLFO',\n",
       " 'apellidos': 'TUN DZUL',\n",
       " 'correo': '170300124@ucaribe.edu.mx',\n",
       " 'fecha_nacimiento': None,\n",
       " 'rol': 'Paciente',\n",
       " 'contrasena': '12345'}"
      ]
     },
     "execution_count": 37,
     "metadata": {},
     "output_type": "execute_result"
    }
   ],
   "source": [
    "user_data = {\n",
    "    \"id\": result[0][0],\n",
    "    \"nombre\": result[0][1],\n",
    "    \"apellidos\": result[0][2],\n",
    "    \"correo\": result[0][3],\n",
    "    \"fecha_nacimiento\": result[0][4],\n",
    "    \"rol\": result[0][5],\n",
    "    \"contrasena\": result[0][6]\n",
    "}\n",
    "\n",
    "user_data"
   ]
  },
  {
   "cell_type": "code",
   "execution_count": 51,
   "metadata": {},
   "outputs": [
    {
     "name": "stdout",
     "output_type": "stream",
     "text": [
      "[]\n"
     ]
    }
   ],
   "source": [
    "# Búsqueda\n",
    "cursor = cnx.cursor()\n",
    "\n",
    "sql = f\"SELECT * FROM usuarios WHERE correo LIKE '{user_data['correo']}%'\"\n",
    "sql = f\"SELECT * FROM usuarios WHERE correo LIKE '170300125@ucaribe.edu.mx'\"\n",
    "\n",
    "cursor.execute(sql)\n",
    "\n",
    "result = cursor.fetchall()\n",
    "\n",
    "print(result)"
   ]
  },
  {
   "cell_type": "code",
   "execution_count": 52,
   "metadata": {},
   "outputs": [
    {
     "name": "stdout",
     "output_type": "stream",
     "text": [
      "lista vacia\n"
     ]
    }
   ],
   "source": [
    "if result: \n",
    "    print(\"lista no vacia\")\n",
    "else:\n",
    "    print(\"lista vacia\")"
   ]
  },
  {
   "cell_type": "code",
   "execution_count": 58,
   "metadata": {},
   "outputs": [],
   "source": [
    "# Cerrar conexión\n",
    "cursor.close()\n",
    "cnx.close()"
   ]
  }
 ],
 "metadata": {
  "kernelspec": {
   "display_name": "proyecto-env",
   "language": "python",
   "name": "python3"
  },
  "language_info": {
   "codemirror_mode": {
    "name": "ipython",
    "version": 3
   },
   "file_extension": ".py",
   "mimetype": "text/x-python",
   "name": "python",
   "nbconvert_exporter": "python",
   "pygments_lexer": "ipython3",
   "version": "3.11.2"
  },
  "orig_nbformat": 4
 },
 "nbformat": 4,
 "nbformat_minor": 2
}
